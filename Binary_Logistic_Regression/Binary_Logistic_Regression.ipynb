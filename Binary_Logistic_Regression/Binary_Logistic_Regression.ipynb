{
  "cells": [
    {
      "cell_type": "code",
      "execution_count": 51,
      "metadata": {
        "id": "nZEwlqNLu3bx"
      },
      "outputs": [],
      "source": [
        "import numpy as np\n",
        "import matplotlib.pyplot as plt\n",
        "import pandas as pd"
      ]
    },
    {
      "cell_type": "code",
      "execution_count": 52,
      "metadata": {
        "colab": {
          "base_uri": "https://localhost:8080/"
        },
        "id": "W-NtbNtYu3by",
        "outputId": "2550c47d-45b2-4ed2-85fb-bc18e5c1f52f"
      },
      "outputs": [
        {
          "name": "stdout",
          "output_type": "stream",
          "text": [
            "   AGE  SEX   BMI     BP   S1     S2    S3   S4      S5  S6    Y\n",
            "0   59    2  32.1  101.0  157   93.2  38.0  4.0  4.8598  87  151\n",
            "1   48    1  21.6   87.0  183  103.2  70.0  3.0  3.8918  69   75\n",
            "2   72    2  30.5   93.0  156   93.6  41.0  4.0  4.6728  85  141\n",
            "3   24    1  25.3   84.0  198  131.4  40.0  5.0  4.8903  89  206\n",
            "4   50    1  23.0  101.0  192  125.4  52.0  4.0  4.2905  80  135\n"
          ]
        }
      ],
      "source": [
        "file_path = '/home/linux/Python Progrram/Binary_Logistic_Regression/SciKitLearnDiabetes.csv'\n",
        "\n",
        "regression_data = pd.read_csv(file_path)\n",
        "print(regression_data.head())"
      ]
    },
    {
      "cell_type": "code",
      "execution_count": 53,
      "metadata": {
        "id": "ei2JnHGYu3bz"
      },
      "outputs": [],
      "source": [
        "def load_data(regression_data):\n",
        "\n",
        "    regression_data = regression_data.sample(frac=1).reset_index(drop=True)\n",
        "    X = regression_data.iloc[:, :-1].values\n",
        "    y = regression_data.iloc[:, -1].values\n",
        "    return X, y"
      ]
    },
    {
      "cell_type": "code",
      "execution_count": 54,
      "metadata": {
        "id": "wGkl5cJLu3b0"
      },
      "outputs": [],
      "source": [
        "\n",
        "def split_data(X, y, train_ratio=0.7, val_ratio=0.15):\n",
        "    if X is None or y is None or len(X) == 0 or len(y) == 0:\n",
        "        raise ValueError(\"Input arrays are empty or None\")\n",
        "\n",
        "    n_samples = len(y)\n",
        "    indices = np.random.permutation(n_samples)\n",
        "\n",
        "    train_size = int(train_ratio * n_samples)\n",
        "    val_size = int(val_ratio * n_samples)\n",
        "\n",
        "    train_indices = indices[:train_size]\n",
        "    val_indices = indices[train_size:train_size + val_size]\n",
        "    test_indices = indices[train_size + val_size:]\n",
        "\n",
        "    X_train = X[train_indices]\n",
        "    y_train = y[train_indices]\n",
        "    X_val = X[val_indices]\n",
        "    y_val = y[val_indices]\n",
        "    X_test = X[test_indices]\n",
        "    y_test = y[test_indices]\n",
        "\n",
        "    return X_train, y_train, X_val, y_val, X_test, y_test"
      ]
    },
    {
      "cell_type": "code",
      "execution_count": 55,
      "metadata": {
        "id": "wffJ6uPdu3b0"
      },
      "outputs": [],
      "source": [
        "def standardize_features(X_train, X_val, X_test):\n",
        "    if X_train is None or len(X_train) == 0:\n",
        "        raise ValueError(\"Training data is empty or None\")\n",
        "\n",
        "    mean = np.mean(X_train, axis=0)\n",
        "    std = np.std(X_train, axis=0)\n",
        "\n",
        "    X_train_std = (X_train - mean) / std\n",
        "    X_val_std = (X_val - mean) / std\n",
        "    X_test_std = (X_test - mean) / std\n",
        "\n",
        "    return X_train_std, X_val_std, X_test_std"
      ]
    },
    {
      "cell_type": "code",
      "execution_count": 56,
      "metadata": {
        "id": "xqYVYHxCu3b1"
      },
      "outputs": [],
      "source": [
        "\n",
        "def sigmoid(z):\n",
        "    return 1 / (1 + np.exp(-np.clip(z, -500, 500)))"
      ]
    },
    {
      "cell_type": "code",
      "execution_count": 57,
      "metadata": {
        "id": "INkLT27Du3b1"
      },
      "outputs": [],
      "source": [
        "def calculate_loss(X, y, theta):\n",
        "    m = len(y)\n",
        "    h = sigmoid(np.dot(X, theta))\n",
        "    epsilon = 1e-15\n",
        "    h = np.clip(h, epsilon, 1 - epsilon)\n",
        "    return -np.sum(y * np.log(h) + (1 - y) * np.log(1 - h)) / m"
      ]
    },
    {
      "cell_type": "code",
      "execution_count": 58,
      "metadata": {
        "id": "pAs6e2qIu3b1"
      },
      "outputs": [],
      "source": [
        "def train_model(X, y, learning_rate, max_iter):\n",
        "    m = len(X)\n",
        "    theta = np.random.rand(X.shape[1])  \n",
        "    history = []\n",
        "\n",
        "    prev_loss = float('inf')\n",
        "\n",
        "    for iteration in range(max_iter):\n",
        "        z = np.dot(X, theta)\n",
        "        h = sigmoid(z)\n",
        "\n",
        "        gradient = np.dot(X.T, (h - y)) / m\n",
        "\n",
        "        theta = theta - learning_rate * gradient\n",
        "\n",
        "        loss = calculate_loss(X, y, theta)\n",
        "        history.append(loss)\n",
        "\n",
        "        if abs(prev_loss - loss) < 1e-5:\n",
        "            print(f\"Converged at iteration {iteration}\")\n",
        "            break\n",
        "\n",
        "        prev_loss = loss\n",
        "\n",
        "    return theta, history"
      ]
    },
    {
      "cell_type": "code",
      "execution_count": 59,
      "metadata": {
        "id": "QIkya7J2u3b1"
      },
      "outputs": [],
      "source": [
        "def evaluate_model(X, y, theta):\n",
        "    predictions = sigmoid(np.dot(X, theta)) >= 0.5\n",
        "    accuracy = np.mean(predictions == y) * 100\n",
        "    return accuracy\n"
      ]
    },
    {
      "cell_type": "code",
      "execution_count": 60,
      "metadata": {
        "colab": {
          "base_uri": "https://localhost:8080/",
          "height": 676
        },
        "id": "0DXn0z4qu3b2",
        "outputId": "3ff556cb-79d7-4829-a430-adf80f02f77c"
      },
      "outputs": [
        {
          "name": "stdout",
          "output_type": "stream",
          "text": [
            "Converged at iteration 352\n",
            "Learning rate: 0.1, Validation accuracy: 66.67%\n",
            "Learning rate: 0.01, Validation accuracy: 66.67%\n",
            "Learning rate: 0.001, Validation accuracy: 57.58%\n",
            "Converged at iteration 1\n",
            "Learning rate: 0.0001, Validation accuracy: 62.12%\n",
            "\n",
            "Best learning rate: 0.1\n",
            "Converged at iteration 309\n",
            "Test accuracy: 77.61%\n"
          ]
        },
        {
          "data": {
            "image/png": "[encoded data removed]",
            "text/plain": [
              "<Figure size 1000x600 with 1 Axes>"
            ]
          },
          "metadata": {},
          "output_type": "display_data"
        }
      ],
      "source": [
        "\n",
        "def main():\n",
        "    try:\n",
        "        regression_data = pd.read_csv(file_path)\n",
        "        if regression_data.isnull().values.any():\n",
        "            print(\"Warning: Dataset contains missing values\")\n",
        "            regression_data = regression_data.dropna()\n",
        "\n",
        "        X, y = load_data(regression_data)\n",
        "\n",
        "        X_train, y_train, X_val, y_val, X_test, y_test = split_data(X, y)\n",
        "\n",
        "        X_train_std, X_val_std, X_test_std = standardize_features(X_train, X_val, X_test)\n",
        "\n",
        "\n",
        "        y_train_median = np.median(y_train)\n",
        "        y_train = (y_train > y_train_median).astype(int)\n",
        "        y_val_median = np.median(y_val)\n",
        "        y_val = (y_val > y_val_median).astype(int)\n",
        "        y_test_median = np.median(y_test)\n",
        "        y_test = (y_test > y_test_median).astype(int)\n",
        "\n",
        "        X_train_final = np.hstack((X_train_std, np.ones((X_train_std.shape[0], 1))))\n",
        "        X_val_final = np.hstack((X_val_std, np.ones((X_val_std.shape[0], 1))))\n",
        "        X_test_final = np.hstack((X_test_std, np.ones((X_test_std.shape[0], 1))))\n",
        "\n",
        "        learning_rates = [0.1, 0.01, 0.001, 0.0001]\n",
        "        max_iter = 500\n",
        "        results = []\n",
        "\n",
        "        for lr in learning_rates:\n",
        "            theta, history = train_model(X_train_final, y_train, lr, max_iter)\n",
        "            val_acc = evaluate_model(X_val_final, y_val, theta)\n",
        "            results.append((lr, val_acc))\n",
        "            print(f\"Learning rate: {lr}, Validation accuracy: {val_acc:.2f}%\")\n",
        "\n",
        "        best_lr = max(results, key=lambda x: x[1])[0]\n",
        "        print(f\"\\nBest learning rate: {best_lr}\")\n",
        "\n",
        "        final_theta, final_history = train_model(X_train_final, y_train, best_lr, max_iter)\n",
        "        test_acc = evaluate_model(X_test_final, y_test, final_theta)\n",
        "        print(f\"Test accuracy: {test_acc:.2f}%\")\n",
        "\n",
        "        plt.figure(figsize=(10, 6))\n",
        "        plt.plot(range(len(final_history)), final_history)\n",
        "        plt.title('Training Loss vs Epoch')\n",
        "        plt.xlabel('Epoch')\n",
        "        plt.ylabel('Loss')\n",
        "        plt.grid(True)\n",
        "        plt.show()\n",
        "\n",
        "    except Exception as e:\n",
        "        print(f\"An error occurred: {str(e)}\")\n",
        "\n",
        "if __name__ == \"__main__\":\n",
        "    main()"
      ]
    }
  ],
  "metadata": {
    "colab": {
      "provenance": []
    },
    "kernelspec": {
      "display_name": "Python 3",
      "language": "python",
      "name": "python3"
    },
    "language_info": {
      "codemirror_mode": {
        "name": "ipython",
        "version": 3
      },
      "file_extension": ".py",
      "mimetype": "text/x-python",
      "name": "python",
      "nbconvert_exporter": "python",
      "pygments_lexer": "ipython3",
      "version": "3.12.7"
    }
  },
  "nbformat": 4,
  "nbformat_minor": 0
}
