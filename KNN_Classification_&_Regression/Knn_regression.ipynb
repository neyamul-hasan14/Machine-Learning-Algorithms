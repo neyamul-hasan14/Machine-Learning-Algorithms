{
 "cells": [
  {
   "cell_type": "code",
   "execution_count": 2,
   "metadata": {},
   "outputs": [
    {
     "name": "stdout",
     "output_type": "stream",
     "text": [
      "   AGE  SEX   BMI     BP   S1     S2    S3   S4      S5  S6    Y\n",
      "0   59    2  32.1  101.0  157   93.2  38.0  4.0  4.8598  87  151\n",
      "1   48    1  21.6   87.0  183  103.2  70.0  3.0  3.8918  69   75\n",
      "2   72    2  30.5   93.0  156   93.6  41.0  4.0  4.6728  85  141\n",
      "3   24    1  25.3   84.0  198  131.4  40.0  5.0  4.8903  89  206\n",
      "4   50    1  23.0  101.0  192  125.4  52.0  4.0  4.2905  80  135\n"
     ]
    }
   ],
   "source": [
    "import pandas as pd\n",
    "file_path = '/home/linux/Python Progrram/KNN_Classification_&_Regression/SciKitLearnDiabetes.csv'\n",
    "\n",
    "regression_data = pd.read_csv(file_path)\n",
    "print(regression_data.head())"
   ]
  },
  {
   "cell_type": "code",
   "execution_count": 3,
   "metadata": {},
   "outputs": [
    {
     "name": "stdout",
     "output_type": "stream",
     "text": [
      "   AGE  SEX   BMI      BP   S1     S2    S3    S4      S5  S6    Y\n",
      "0   45    1  20.3   74.33  190  126.2  49.0  3.88  4.3041  79   96\n",
      "1   50    1  21.9   91.00  190  111.2  67.0  3.00  4.0775  77   96\n",
      "2   36    2  22.0   90.00  160   99.6  50.0  3.00  3.9512  82  138\n",
      "3   56    2  25.8  103.00  177  114.4  34.0  5.00  4.9628  99  164\n",
      "4   60    1  25.6   78.00  195   95.4  91.0  2.00  3.7612  87   39\n"
     ]
    }
   ],
   "source": [
    "regression_data = regression_data.sample(frac= 1).reset_index(drop= True)\n",
    "print(regression_data.head())"
   ]
  },
  {
   "cell_type": "code",
   "execution_count": 4,
   "metadata": {},
   "outputs": [],
   "source": [
    "train_size = int(0.8*len(regression_data))\n",
    "train_data = regression_data[:train_size]\n",
    "test_data =  regression_data[train_size:]"
   ]
  },
  {
   "cell_type": "code",
   "execution_count": 5,
   "metadata": {},
   "outputs": [],
   "source": [
    "import numpy as np\n",
    "def euclidean_dis(point1, point2):\n",
    "    \n",
    "    distance = np.sqrt(np.sum((point1- point2)**2))\n",
    "    return distance"
   ]
  },
  {
   "cell_type": "code",
   "execution_count": 6,
   "metadata": {},
   "outputs": [],
   "source": [
    "def predict (regression_data, sample, k=15):\n",
    "    distances = regression_data.drop(columns = 'Y').apply(lambda row : euclidean_dis(row, sample), axis = 1)\n",
    "    \n",
    "    nearest_neighbor = distances.nsmallest(k).index\n",
    "    \n",
    "    targets = regression_data.loc[nearest_neighbor, 'Y']\n",
    "    predicted_target = targets.mean()\n",
    "    return predicted_target"
   ]
  },
  {
   "cell_type": "code",
   "execution_count": 7,
   "metadata": {},
   "outputs": [],
   "source": [
    "def calculate_mse(predictions, true_values):\n",
    "    error = np.sum((predictions - true_values) ** 2)\n",
    "    mse = error / len(true_values)\n",
    "    return mse"
   ]
  },
  {
   "cell_type": "code",
   "execution_count": 8,
   "metadata": {},
   "outputs": [
    {
     "name": "stdout",
     "output_type": "stream",
     "text": [
      "Mean_Squared_Error: 5075.716554307116\n"
     ]
    }
   ],
   "source": [
    "predictions = []\n",
    "\n",
    "for _, row in test_data.drop('Y', axis=1).iterrows(): \n",
    "    prediction = predict(train_data, row)  \n",
    "    predictions.append(prediction)\n",
    "\n",
    "mse = calculate_mse(np.array(predictions), test_data['Y']) \n",
    "print(f'Mean_Squared_Error: {mse}')\n"
   ]
  }
 ],
 "metadata": {
  "kernelspec": {
   "display_name": "Python 3",
   "language": "python",
   "name": "python3"
  },
  "language_info": {
   "codemirror_mode": {
    "name": "ipython",
    "version": 3
   },
   "file_extension": ".py",
   "mimetype": "text/x-python",
   "name": "python",
   "nbconvert_exporter": "python",
   "pygments_lexer": "ipython3",
   "version": "3.12.7"
  }
 },
 "nbformat": 4,
 "nbformat_minor": 2
}
