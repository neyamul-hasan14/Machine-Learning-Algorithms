{
 "cells": [
  {
   "cell_type": "code",
   "execution_count": 50,
   "metadata": {},
   "outputs": [
    {
     "name": "stdout",
     "output_type": "stream",
     "text": [
      "   Id  SepalLengthCm  SepalWidthCm  PetalLengthCm  PetalWidthCm      Species\n",
      "0   1            5.1           3.5            1.4           0.2  Iris-setosa\n",
      "1   2            4.9           3.0            1.4           0.2  Iris-setosa\n",
      "2   3            4.7           3.2            1.3           0.2  Iris-setosa\n",
      "3   4            4.6           3.1            1.5           0.2  Iris-setosa\n",
      "4   5            5.0           3.6            1.4           0.2  Iris-setosa\n"
     ]
    }
   ],
   "source": [
    "import pandas as pd\n",
    "\n",
    "csv_path = '/home/linux/Python Progrram/KNN_Classification_&_Regression/Iris.csv'\n",
    "\n",
    "iris_data = pd.read_csv(csv_path)\n",
    "print(iris_data.head())"
   ]
  },
  {
   "cell_type": "code",
   "execution_count": 51,
   "metadata": {},
   "outputs": [
    {
     "name": "stdout",
     "output_type": "stream",
     "text": [
      "['Iris-setosa' 'Iris-setusa' 'Iris-versicolor' 'Iris-vesicolor'\n",
      " 'Iris-vercicolor' 'Iris-virginia' 'Iris-virginica']\n"
     ]
    }
   ],
   "source": [
    "species_unique = iris_data['Species'].unique()\n",
    "print(species_unique)"
   ]
  },
  {
   "cell_type": "code",
   "execution_count": 52,
   "metadata": {},
   "outputs": [
    {
     "name": "stdout",
     "output_type": "stream",
     "text": [
      "   Id  SepalLengthCm  SepalWidthCm  PetalLengthCm  PetalWidthCm      Species\n",
      "0   1            5.1           3.5            1.4           0.2  Iris-setosa\n",
      "1   2            4.9           3.0            1.4           0.2  Iris-setosa\n",
      "2   3            4.7           3.2            1.3           0.2  Iris-setosa\n",
      "3   4            4.6           3.1            1.5           0.2  Iris-setosa\n",
      "4   5            5.0           3.6            1.4           0.2  Iris-setosa\n"
     ]
    }
   ],
   "source": [
    "species_correction = {\n",
    "    'Iris-setosa': 'Iris-setosa',\n",
    "    'Iris-setusa': 'Iris-setosa',\n",
    "    'Iris-versicolor': 'Iris-versicolor',\n",
    "    'Iris-vesicolor': 'Iris-versicolor',\n",
    "    'Iris-vercicolor': 'Iris-versicolor',\n",
    "    'Iris-virginia': 'Iris-virginica',\n",
    "    'Iris-virginica': 'Iris-virginica'\n",
    "}\n",
    "iris_data['Species'] = iris_data['Species'].map(species_correction)\n",
    "print(iris_data.head())"
   ]
  },
  {
   "cell_type": "code",
   "execution_count": 53,
   "metadata": {},
   "outputs": [
    {
     "name": "stdout",
     "output_type": "stream",
     "text": [
      "['Iris-setosa' 'Iris-versicolor' 'Iris-virginica']\n"
     ]
    }
   ],
   "source": [
    "species_unique = iris_data['Species'].unique()\n",
    "print(species_unique)"
   ]
  },
  {
   "cell_type": "code",
   "execution_count": 54,
   "metadata": {},
   "outputs": [
    {
     "name": "stdout",
     "output_type": "stream",
     "text": [
      "   SepalLengthCm  SepalWidthCm  PetalLengthCm  PetalWidthCm      Species\n",
      "0            5.1           3.5            1.4           0.2  Iris-setosa\n",
      "1            4.9           3.0            1.4           0.2  Iris-setosa\n",
      "2            4.7           3.2            1.3           0.2  Iris-setosa\n",
      "3            4.6           3.1            1.5           0.2  Iris-setosa\n",
      "4            5.0           3.6            1.4           0.2  Iris-setosa\n"
     ]
    }
   ],
   "source": [
    "iris_data = iris_data.drop('Id' , axis =1) #columns= 'Id'\n",
    "print(iris_data.head())"
   ]
  },
  {
   "cell_type": "code",
   "execution_count": 55,
   "metadata": {},
   "outputs": [
    {
     "name": "stdout",
     "output_type": "stream",
     "text": [
      "   SepalLengthCm  SepalWidthCm  PetalLengthCm  PetalWidthCm      Species  \\\n",
      "0            5.1           3.5            1.4           0.2  Iris-setosa   \n",
      "1            4.9           3.0            1.4           0.2  Iris-setosa   \n",
      "2            4.7           3.2            1.3           0.2  Iris-setosa   \n",
      "3            4.6           3.1            1.5           0.2  Iris-setosa   \n",
      "4            5.0           3.6            1.4           0.2  Iris-setosa   \n",
      "\n",
      "   target  \n",
      "0       0  \n",
      "1       0  \n",
      "2       0  \n",
      "3       0  \n",
      "4       0  \n"
     ]
    }
   ],
   "source": [
    "species_to_target = {\n",
    "    'Iris-setosa' :0,\n",
    "    'Iris-versicolor' :1,\n",
    "    'Iris-virginica' :2\n",
    "}\n",
    "iris_data['target'] = iris_data['Species'].map(species_to_target)\n",
    "print(iris_data.head())"
   ]
  },
  {
   "cell_type": "code",
   "execution_count": 56,
   "metadata": {},
   "outputs": [
    {
     "name": "stdout",
     "output_type": "stream",
     "text": [
      "   SepalLengthCm  SepalWidthCm  PetalLengthCm  PetalWidthCm  target\n",
      "0            5.1           3.5            1.4           0.2       0\n",
      "1            4.9           3.0            1.4           0.2       0\n",
      "2            4.7           3.2            1.3           0.2       0\n",
      "3            4.6           3.1            1.5           0.2       0\n",
      "4            5.0           3.6            1.4           0.2       0\n"
     ]
    }
   ],
   "source": [
    "iris_data = iris_data.drop(columns = 'Species')\n",
    "print(iris_data.head())"
   ]
  },
  {
   "cell_type": "code",
   "execution_count": 57,
   "metadata": {},
   "outputs": [
    {
     "name": "stdout",
     "output_type": "stream",
     "text": [
      "   SepalLengthCm  SepalWidthCm  PetalLengthCm  PetalWidthCm  target\n",
      "0            6.2           3.4            5.4           2.3       2\n",
      "1            6.7           3.1            4.4           1.4       1\n",
      "2            6.1           3.0            4.6           1.4       1\n",
      "3            4.4           3.0            1.3           0.2       0\n",
      "4            5.9           3.0            5.1           1.8       2\n"
     ]
    }
   ],
   "source": [
    "iris_data = iris_data.sample(frac= 1).reset_index(drop= True)\n",
    "print(iris_data.head())"
   ]
  },
  {
   "cell_type": "code",
   "execution_count": 58,
   "metadata": {},
   "outputs": [],
   "source": [
    "train_size = int(0.8*len(iris_data))\n",
    "train_set = iris_data[:train_size]\n",
    "test_set =  iris_data[train_size:]"
   ]
  },
  {
   "cell_type": "code",
   "execution_count": 59,
   "metadata": {},
   "outputs": [],
   "source": [
    "import numpy as np\n",
    "def euclidean_distance(point1, point2):\n",
    "    point1_features = point1[:-1]\n",
    "    point2_features = point2[:-1]\n",
    "    \n",
    "    point1_features = np.array(point1_features)\n",
    "    point2_features = np.array(point2_features)\n",
    "    \n",
    "    distance = np.sqrt(np.sum((point1_features - point2_features)**2))\n",
    "    return distance"
   ]
  },
  {
   "cell_type": "code",
   "execution_count": 60,
   "metadata": {},
   "outputs": [],
   "source": [
    "def predict (data, sample, k=1):\n",
    "    distances = data.drop(columns = 'target').apply(lambda row : euclidean_distance(row, sample), axis = 1)\n",
    "    \n",
    "    nearest_neighbors = distances.nsmallest(k).index\n",
    "    \n",
    "    targets = data.loc[nearest_neighbors, 'target']\n",
    "    target_count = {}\n",
    "    for target in targets:\n",
    "        if target in target_count:\n",
    "            target_count[target] += 1\n",
    "        else:\n",
    "            target_count[target] = 1\n",
    "            \n",
    "    \n",
    "    predicted_target = max(target_count, key = target_count.get)\n",
    "    return predicted_target"
   ]
  },
  {
   "cell_type": "code",
   "execution_count": 61,
   "metadata": {},
   "outputs": [
    {
     "name": "stdout",
     "output_type": "stream",
     "text": [
      "96.66666666666667 %\n"
     ]
    }
   ],
   "source": [
    "predictions = []\n",
    "\n",
    "for _, row in test_set.drop('target', axis = 1).iterrows():\n",
    "    prediction = predict(train_set, row)\n",
    "    predictions.append(prediction)\n",
    "    \n",
    "accuracy = np.mean(np.array(predictions) == test_set['target'])\n",
    "print(accuracy*100, '%')"
   ]
  }
 ],
 "metadata": {
  "kernelspec": {
   "display_name": "Python 3",
   "language": "python",
   "name": "python3"
  },
  "language_info": {
   "codemirror_mode": {
    "name": "ipython",
    "version": 3
   },
   "file_extension": ".py",
   "mimetype": "text/x-python",
   "name": "python",
   "nbconvert_exporter": "python",
   "pygments_lexer": "ipython3",
   "version": "3.12.7"
  }
 },
 "nbformat": 4,
 "nbformat_minor": 2
}
